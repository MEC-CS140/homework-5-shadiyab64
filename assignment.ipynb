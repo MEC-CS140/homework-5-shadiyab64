{
 "cells": [
  {
   "cell_type": "markdown",
   "metadata": {},
   "source": [
    "# CS 140 Python Assignment:Lists, Loops, Functions\n",
    "\n",
    "## How to run:\n",
    "- Select Kernel (top left)\n",
    "- Python Environments\n",
    "- Python 3.10.13 (any version will work)\n",
    "\n",
    "\n",
    "## Assignment instructions\n",
    "1. Follow the instructions in the comments\n",
    "2. Commit your code\n",
    "3. Past assignment repository to Blackboard\n",
    "\n",
    "**Make a new Code cell by clicking the + Code button at the top of the notebook.**"
   ]
  },
  {
   "cell_type": "code",
   "execution_count": 1,
   "metadata": {},
   "outputs": [
    {
     "name": "stdout",
     "output_type": "stream",
     "text": [
      "8\n",
      "[2, 7, 10, 101, 200, 270, 947]\n",
      "False\n"
     ]
    }
   ],
   "source": [
    "num_list = [2, 7, 10, 100, 101, 200 ,270, 947]\n",
    "print(len(num_list))\n",
    "num_list.remove(100)\n",
    "print(num_list)\n",
    "print(31 in num_list)\n",
    "# Print the length of this list (10 points)\n",
    "\n",
    "# Remove 100 from num_list (10 points)\n",
    "\n",
    "# Write code that tries to find 31 exist in this list (10 points)"
   ]
  },
  {
   "cell_type": "code",
   "execution_count": 2,
   "metadata": {},
   "outputs": [
    {
     "name": "stdout",
     "output_type": "stream",
     "text": [
      "[1, 2, 'Fizz', 4, 'Buzz', 'Fizz', 7, 8, 'Fizz', 'Buzz', 11, 'Fizz', 13, 14, 'Fizz', 16, 17, 'Fizz', 19, 'Buzz', 'Fizz', 22, 23, 'Fizz', 'Buzz', 26, 'Fizz', 28, 29, 'Fizz', 31, 32, 'Fizz', 34, 'Buzz', 'Fizz', 37, 38, 'Fizz', 'Buzz', 41, 'Fizz', 43, 44, 'Fizz', 46, 47, 'Fizz', 49, 'Buzz', 'Fizz', 52, 53, 'Fizz', 'Buzz', 56, 'Fizz', 58, 59, 'Fizz', 61, 62, 'Fizz', 64, 'Buzz', 'Fizz', 67, 68, 'Fizz', 'Buzz', 71, 'Fizz', 73, 74, 'Fizz', 76, 77, 'Fizz', 79, 'Buzz', 'Fizz', 82, 83, 'Fizz', 'Buzz', 86, 'Fizz', 88, 89, 'Fizz', 91, 92, 'Fizz', 94, 'Buzz', 'Fizz', 97, 98, 'Fizz', 'Buzz']\n"
     ]
    }
   ],
   "source": [
    "# Fizz Buzz\n",
    "# Print the numbers 1 to 100 (10 points)\n",
    "integer = 1\n",
    "numbers_list = [1]\n",
    "while integer<100:\n",
    "    integer+=1\n",
    "    if integer%3==0:\n",
    "         numbers_list.append(\"Fizz\") \n",
    "    elif integer%5==0: \n",
    "        numbers_list.append(\"Buzz\")\n",
    "    else:\n",
    "        numbers_list.append(integer)\n",
    "print(numbers_list)\n",
    "\n",
    "# If a number is multiple of 3, print the word \"Fizz\" instead of the number (10 points)\n",
    "# If a number is multiple of 5, print the word \"Buzz\" instead of the number (10 points)\n",
    "# For numbers that can are a multiple of 3 and 5 (like 15) print \"Fizz\" instead of the number (10 points)"
   ]
  },
  {
   "cell_type": "code",
   "execution_count": 3,
   "metadata": {},
   "outputs": [
    {
     "data": {
      "text/plain": [
       "133"
      ]
     },
     "execution_count": 3,
     "metadata": {},
     "output_type": "execute_result"
    }
   ],
   "source": [
    "# Create a function that adds two numbers together and returns the sum (10 points)\n",
    "# The two numbers must be parameters (5 points)\n",
    "def sum(x,y):\n",
    "    return x+y\n",
    "sum(int(input(\"Insert first number here\")),int(input(\"Insert second number here\")))"
   ]
  },
  {
   "cell_type": "code",
   "execution_count": 4,
   "metadata": {},
   "outputs": [
    {
     "data": {
      "text/plain": [
       "-198"
      ]
     },
     "execution_count": 4,
     "metadata": {},
     "output_type": "execute_result"
    }
   ],
   "source": [
    "# # Create a function that subtracts two numbers together and returns the difference (10 points)\n",
    "# # The two numbers need to be parameters (5 points)\n",
    "def subtract(x,y):\n",
    "    negative = input(\"Would you like the positive difference of these two numbers?\")\n",
    "    if negative == \"no\" or \"NO\" or \"No\":\n",
    "        return x-y\n",
    "    else:\n",
    "        if (x>y):\n",
    "            return x-y\n",
    "        else:\n",
    "            return y-x\n",
    "subtract(int(input(\"Insert one number here\")),int(input(\"Insert another number here\")))"
   ]
  }
 ],
 "metadata": {
  "kernelspec": {
   "display_name": "Python 3",
   "language": "python",
   "name": "python3"
  },
  "language_info": {
   "codemirror_mode": {
    "name": "ipython",
    "version": 3
   },
   "file_extension": ".py",
   "mimetype": "text/x-python",
   "name": "python",
   "nbconvert_exporter": "python",
   "pygments_lexer": "ipython3",
   "version": "3.10.13"
  }
 },
 "nbformat": 4,
 "nbformat_minor": 2
}
